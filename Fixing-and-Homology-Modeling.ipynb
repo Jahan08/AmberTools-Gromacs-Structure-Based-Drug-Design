{
 "cells": [
  {
   "cell_type": "markdown",
   "id": "dba84497",
   "metadata": {},
   "source": [
    "# Homology Modeling of (Polo Like Kinase 1 : PLK1) 2RKU"
   ]
  },
  {
   "cell_type": "markdown",
   "id": "31a5c393",
   "metadata": {},
   "source": [
    "# Repair  the proetin structure\n",
    "\n",
    "## Required files\n",
    "\n",
    "1. 4 Scripts\n",
    "2. PDB file\n",
    "3. Fasta Sequence\n"
   ]
  },
  {
   "cell_type": "markdown",
   "id": "4e527a20",
   "metadata": {},
   "source": [
    "### Step 1\n",
    "\n",
    "first script extracts the sequence from the pdb file\n",
    "\n",
    "#### We rename the 2rku.pdb file to qpdb to maintain the consistancy with the script1.py "
   ]
  },
  {
   "cell_type": "code",
   "execution_count": 1,
   "id": "2165e07b",
   "metadata": {},
   "outputs": [],
   "source": [
    "! mod10.3 script1.py"
   ]
  },
  {
   "cell_type": "code",
   "execution_count": 2,
   "id": "91f020e8",
   "metadata": {},
   "outputs": [
    {
     "name": "stdout",
     "output_type": "stream",
     "text": [
      "2rku.pdb                qpdb.seq                script2.py\r\n",
      "Homology-Modeling.ipynb rcsb_pdb_2RKU.fasta     script3.py\r\n",
      "alignment.ali           script1.log\r\n",
      "qpdb                    script1.py\r\n"
     ]
    }
   ],
   "source": [
    "! ls "
   ]
  },
  {
   "cell_type": "markdown",
   "id": "4173da93",
   "metadata": {},
   "source": [
    "### Step 2\n",
    "\n",
    "Pair wise alignment by using EMBOSS Needle (https://www.ebi.ac.uk/Tools/psa/emboss_needle/)\n",
    "\n",
    "In the first box we are going to paste the sequence we got from first step and in the second box we are going to paste the fasta sequence of the protein. then press submit.\n",
    "\n"
   ]
  },
  {
   "cell_type": "code",
   "execution_count": 3,
   "id": "1e43f29a",
   "metadata": {},
   "outputs": [
    {
     "name": "stdout",
     "output_type": "stream",
     "text": [
      "\r\n",
      ">P1;qpdb\r\n",
      "structureX:qpdb:37:A:+294:A:MOL_ID  1; MOLECULE  SERINE/THREONINE-PROTEIN KINASE PLK1; CHAIN  A; SYNONYM  POLO-LIKE KINASE 1, PLK-1, SERINE/THREONINE-PROTEI 13, STPK13; EC  2.7.11.21; ENGINEERED  YES; MUTATION  YES:MOL_ID  1; ORGANISM_SCIENTIFIC  HOMO SAPIENS; ORGANISM_COMMON  HUMAN; ORGANISM_TAXID  9606; GENE  PLK1, PLK; EXPRESSION_SYSTEM  SPODOPTERA FRUGIPERDA; EXPRESSION_SYSTEM_COMMON  FALL ARMYWORM; EXPRESSION_SYSTEM_TAXID  7108: 1.95: 0.19\r\n",
      "AKEIPEVLVDPRSRRRYVRGRFLGKGGFAKCFEISDADTKEVFAGKIVPKSLLLKPHQREKMSMEISIHRSLAHQ\r\n",
      "HVVGFHGFFEDNDFVFVVLELCRRRSLLELHKRRKALTEPEARYYLRQIVLGCQYLHRNRVIHRDLKLGNLFLNE\r\n",
      "DLEVKIGDFGLATKVEYDGERKKVLCGTPNYIAPEVLSKKGHSFEVDVWSIGCIMYTLLVGKPPFETSCLKETYL\r\n",
      "RIKKNEYSIPKHINPVAASLIQKMLQTDPTARPTINELLNDEFFTSGYIPARLPITCLTIPPRFSIAPS*\r\n"
     ]
    }
   ],
   "source": [
    "! cat qpdb.seq"
   ]
  },
  {
   "cell_type": "code",
   "execution_count": 4,
   "id": "7e3849d7",
   "metadata": {},
   "outputs": [
    {
     "name": "stdout",
     "output_type": "stream",
     "text": [
      ">2RKU_1|Chain A|Serine/threonine-protein kinase PLK1|Homo sapiens (9606)\r\n",
      "AKEIPEVLVDPRSRRRYVRGRFLGKGGFAKCFEISDADTKEVFAGKIVPKSLLLKPHQREKMSMEISIHRSLAHQHVVGFHGFFEDNDFVFVVLELCRRRSLLELHKRRKALTEPEARYYLRQIVLGCQYLHRNRVIHRDLKLGNLFLNEDLEVKIGDFGLATKVEYDGERKKVLCGTPNYIAPEVLSKKGHSFEVDVWSIGCIMYTLLVGKPPFETSCLKETYLRIKKNEYSIPKHINPVAASLIQKMLQTDPTARPTINELLNDEFFTSGYIPARLPITCLTIPPRFSIAPS\r\n"
     ]
    }
   ],
   "source": [
    "! cat rcsb_pdb_2RKU.fasta"
   ]
  },
  {
   "cell_type": "markdown",
   "id": "9a780db7",
   "metadata": {},
   "source": [
    "From the output file of the Emboss Needle we get that there is no missing residue in the protein structure."
   ]
  },
  {
   "cell_type": "code",
   "execution_count": 6,
   "id": "cb56df7d",
   "metadata": {},
   "outputs": [],
   "source": [
    "! cp alignment.ali alignment-2rku.ali"
   ]
  },
  {
   "cell_type": "code",
   "execution_count": 8,
   "id": "170ee0bc",
   "metadata": {},
   "outputs": [
    {
     "name": "stdout",
     "output_type": "stream",
     "text": [
      "\u001b[?1000h\u001b[?2004h\u001b7\u001b[?47h\u001b[?1h\u001b=\u001b[?2004h\u001b[1;24r\u001b[?12h\u001b[?12l\u001b[29m\u001b[m\u001b[H\u001b[2J\u001b[?25l\u001b[24;1H\"alignment.ali\" 5L, 36C\u001b[2;1H▽\u001b[6n\u001b[2;1H  \u001b[1;1H\u001b[>c\u001b]11;?\u0007\u001b[1;1H\u001b[33m  1 \n",
      "  2 \n",
      "  3 \u001b[m>P1;qpdb_fill\n",
      "\u001b[33m  4 \u001b[msequence:::::::::\n",
      "\u001b[33m  5 \u001b[m*\n",
      "\u001b[34m~                                                                               \u001b[7;1H~                                                                               \u001b[8;1H~                                                                               \u001b[9;1H~                                                                               \u001b[10;1H~                                                                               \u001b[11;1H~                                                                               \u001b[12;1H~                                                                               \u001b[13;1H~                                                                               \u001b[14;1H~                                                                               \u001b[15;1H~                                                                               \u001b[16;1H~                                                                               \u001b[17;1H~                                                                               \u001b[18;1H~                                                                               \u001b[19;1H~                                                                               \u001b[20;1H~                                                                               \u001b[21;1H~                                                                               \u001b[22;1H~                                                                               \u001b[23;1H~                                                                               \u001b[1;5H\u001b[?25h\u001b[?25l\u001b[m\u001b[24;1HType  :qa!  and press <Enter> to abandon all changes and exit Vim\u0007\u001b[1;5H\u001b[?25h"
     ]
    }
   ],
   "source": [
    "! vi alignment.ali"
   ]
  },
  {
   "cell_type": "markdown",
   "id": "8ed71d7a",
   "metadata": {},
   "source": [
    "### Step 3 and 4\n",
    "\n",
    "#### Since there is no gap we don't have to go further otherwise we have to run script2.py and script3.py\n",
    "\n",
    "* script2.py will create three different models and will choose the one with smaller molpdf score which will be found in the log file for script2.py\n",
    "\n",
    "* script3.py will refine the finalized models from script2.py"
   ]
  },
  {
   "cell_type": "code",
   "execution_count": 12,
   "id": "06a4a866",
   "metadata": {},
   "outputs": [],
   "source": [
    "! cd ../Homology-Modeling/"
   ]
  },
  {
   "cell_type": "code",
   "execution_count": 13,
   "id": "3880b45c",
   "metadata": {},
   "outputs": [
    {
     "name": "stdout",
     "output_type": "stream",
     "text": [
      "/Users/nj465/Desktop/untitled folder 4/Fixing-with-modeller\r\n"
     ]
    }
   ],
   "source": [
    "! pwd"
   ]
  },
  {
   "cell_type": "code",
   "execution_count": 11,
   "id": "d3b59418",
   "metadata": {},
   "outputs": [
    {
     "name": "stdout",
     "output_type": "stream",
     "text": [
      "2RKU-EN.pdf             alignment.ali           script1.log\r\n",
      "2rku.pdb                qpdb                    script1.py\r\n",
      "Homology-Modeling.ipynb qpdb.seq                script2.py\r\n",
      "alignment-2rku.ali      rcsb_pdb_2RKU.fasta     script3.py\r\n"
     ]
    }
   ],
   "source": [
    "! ls"
   ]
  },
  {
   "cell_type": "markdown",
   "id": "6b514b63",
   "metadata": {},
   "source": [
    "# Predict the 3D strcuture of 2RKU by Modeller"
   ]
  },
  {
   "cell_type": "markdown",
   "id": "ae9f8a8d",
   "metadata": {},
   "source": [
    "## Step 1 Downloding of templates from protein databank using BLAST"
   ]
  },
  {
   "cell_type": "markdown",
   "id": "8accbd59",
   "metadata": {},
   "source": [
    "##### For that we have to paste the fasta sequence of 2rku on the BLAST server and mention PDB as database and press BLAST (https://blast.ncbi.nlm.nih.gov/Blast.cgi)"
   ]
  },
  {
   "cell_type": "code",
   "execution_count": 15,
   "id": "1ad34aca",
   "metadata": {},
   "outputs": [
    {
     "name": "stdout",
     "output_type": "stream",
     "text": [
      ">2RKU_1|Chain A|Serine/threonine-protein kinase PLK1|Homo sapiens (9606)\r\n",
      "AKEIPEVLVDPRSRRRYVRGRFLGKGGFAKCFEISDADTKEVFAGKIVPKSLLLKPHQREKMSMEISIHRSLAHQHVVGFHGFFEDNDFVFVVLELCRRRSLLELHKRRKALTEPEARYYLRQIVLGCQYLHRNRVIHRDLKLGNLFLNEDLEVKIGDFGLATKVEYDGERKKVLCGTPNYIAPEVLSKKGHSFEVDVWSIGCIMYTLLVGKPPFETSCLKETYLRIKKNEYSIPKHINPVAASLIQKMLQTDPTARPTINELLNDEFFTSGYIPARLPITCLTIPPRFSIAPS\r\n"
     ]
    }
   ],
   "source": [
    "! cat rcsb_pdb_2RKU.fasta"
   ]
  },
  {
   "cell_type": "markdown",
   "id": "df75f4da",
   "metadata": {},
   "source": [
    "##### After that we will get list of structural homologues"
   ]
  },
  {
   "cell_type": "markdown",
   "id": "7a5e91cf",
   "metadata": {},
   "source": [
    "Some criteria should be considered to choose the template \n",
    "\n",
    "* Query Coverage (Should be high)\n",
    "* Percentage Identity (Should be high)\n",
    "* E value (should be low)"
   ]
  },
  {
   "cell_type": "markdown",
   "id": "37d311ee",
   "metadata": {},
   "source": [
    "We got 2RKU as first template \n",
    "\n",
    "We have downloaded 2V5Q, 5TA6, 2YAC and 3THB as template protein"
   ]
  },
  {
   "cell_type": "markdown",
   "id": "8f587961",
   "metadata": {},
   "source": [
    "From the above inspection we get that 2RKU does not need 3D structure prediction. \n",
    "Otherwise we will require to run the scripts"
   ]
  },
  {
   "cell_type": "code",
   "execution_count": 16,
   "id": "11c33e0e",
   "metadata": {},
   "outputs": [
    {
     "name": "stdout",
     "output_type": "stream",
     "text": [
      "2RKU-EN.pdf             \u001b[31mbuild_profile.py\u001b[m\u001b[m        rcsb_pdb_2RKU.fasta\r\n",
      "2rku.pdb                \u001b[31mcompare.py\u001b[m\u001b[m              script1.log\r\n",
      "Homology-Modeling.ipynb \u001b[31mevaluate_model.py\u001b[m\u001b[m       script1.py\r\n",
      "\u001b[31malign2d.py\u001b[m\u001b[m              \u001b[31mmodel-single.py\u001b[m\u001b[m         script2.py\r\n",
      "alignment-2rku.ali      qpdb                    script3.py\r\n",
      "alignment.ali           qpdb.seq\r\n"
     ]
    }
   ],
   "source": [
    "! ls"
   ]
  },
  {
   "cell_type": "markdown",
   "id": "95ebd3b1",
   "metadata": {},
   "source": [
    "### Follow the instruction from tutorial of STEMSkillsLab"
   ]
  },
  {
   "cell_type": "code",
   "execution_count": null,
   "id": "d4dee824",
   "metadata": {},
   "outputs": [],
   "source": []
  }
 ],
 "metadata": {
  "kernelspec": {
   "display_name": "Python 3 (ipykernel)",
   "language": "python",
   "name": "python3"
  },
  "language_info": {
   "codemirror_mode": {
    "name": "ipython",
    "version": 3
   },
   "file_extension": ".py",
   "mimetype": "text/x-python",
   "name": "python",
   "nbconvert_exporter": "python",
   "pygments_lexer": "ipython3",
   "version": "3.9.7"
  }
 },
 "nbformat": 4,
 "nbformat_minor": 5
}
