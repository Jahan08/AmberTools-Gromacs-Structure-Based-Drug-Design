{
 "cells": [
  {
   "cell_type": "markdown",
   "id": "63c13ed1",
   "metadata": {},
   "source": [
    "# Molecular Docking With AutoDock"
   ]
  },
  {
   "cell_type": "markdown",
   "id": "ab707677",
   "metadata": {},
   "source": [
    "# Steps involved in Molecular Docking\n",
    "\n",
    "* Choose the protein target and ligand molecule\n",
    "* Carry out protein and ligand preparation\n",
    "* Select the docking site\n",
    "* If ligand contains metal, preparation of parameters\n",
    "* Carry out ligand-protein docking using docking tools\n",
    "* Different ligand poses generated\n",
    "* Analysis of results"
   ]
  },
  {
   "cell_type": "markdown",
   "id": "88fa03ce",
   "metadata": {},
   "source": [
    "# Choosing protein target\n",
    "\n",
    "* DOCKING OF ANTIVIRAL DRUGS AGAINST SARS-CoV-2-3CL\n",
    "\n",
    "The coronavirus 3-chymotrypsin-like protease (3CL pro) or main protease, Mpro, is a key protein in the virus life cycle and a major drug target. Based on crystal structures of SARSCoV2 Mpro complexed with PF-07321332 inhibitors Pdb id: 7VH8)\n",
    "\n",
    "Biological Pathway of SARS-CoV-2 virus\n",
    "The SARS-CoV-2 virus is a single strand of RNA wrapped in a protein envelop. The RNA contains the genetic instructions the virus needs to make copies of itself\n",
    "\n",
    "when the virus invades a human cell, its' RNA is traslated into a polypeptide, a long protein chain that includes several enzymes necessary to continue replication\n",
    "\n",
    "Before these enzymes can start working, they need to be separated from each other. the protease enzyme act like a pair of acissors, cutting the polypeptide up into the different enzymes, that then become functional\n",
    "\n",
    "Protease inhibitors can interfere with this critical cutting step. These drugs are designed to tightly bind to the protease enzyme, blocking its ability to cut. The virus then can’t make copies of itself and further infect its host\n",
    "\n",
    "# Repairing Protein PDB with SWISSPDB VIEWER\n",
    "\n",
    "From the available experimental data for 7VH8, we will use chain A for docking. However, few sidechains atoms are missing. We will repair the protein structure using Swiss pdb viewer for chain A of 7VH8\n",
    "\n",
    "Now, we will use Swiss-pdb viewer to save only chain A from PDB file. Open the Swiss-pdb viewer\n",
    "\n",
    "File > Open PDB file..> 7vh8.pdb Warning message will appear Click OK\n",
    "\n",
    "Once protein is displayed, you can see that all missing sidechain atoms were added. Also, if there are more than two conformations for particular side, only dominant conformation will be kept. Modified residues were shown with magenta/pink color\n",
    "\n",
    "Selecting the chain A\n",
    "\n",
    "Now, open the control panel Wind > Control Panel\n",
    "\n",
    "Control panel will open as shown in adjacent picture\n",
    "\n",
    "File > Save > Selected Residues Of Current Layer... 7vh8-swiss.pdb and save"
   ]
  },
  {
   "cell_type": "markdown",
   "id": "89581e6d",
   "metadata": {},
   "source": [
    "Scroll down and only 4WI401 by clicking on 4WI residue File > Save > Selected Residues Of Current Layer... pfizer.pdb and save"
   ]
  },
  {
   "cell_type": "markdown",
   "id": "6a88e44f",
   "metadata": {},
   "source": [
    "Scroll down in control panel, and unselect any ligand which you do not want to use in docking. Use control tab and click on ligand which you do not want to use in docking. For example we do not want DMS and H2S ligand of chain A to be included in docking as shown below"
   ]
  },
  {
   "cell_type": "markdown",
   "id": "dc27a3c0",
   "metadata": {},
   "source": [
    "# Adding Hydrogen and repairing tautomeric form with MolProbity"
   ]
  },
  {
   "cell_type": "markdown",
   "id": "54ee4c1a",
   "metadata": {},
   "source": [
    "In order to add all hydrogens and search tautomer’s for GLN, ASN, and HIS, we will use MolProbity Program\n",
    "http://molprobity.biochem.duke.edu/ \n",
    "Upload 7vh8_spdbv.pdb"
   ]
  },
  {
   "cell_type": "markdown",
   "id": "9aa60cdf",
   "metadata": {},
   "source": [
    "Then Continue and finally Add Hydrogens"
   ]
  },
  {
   "cell_type": "markdown",
   "id": "25a64298",
   "metadata": {},
   "source": [
    "Click Start Adding H and then Continue and save the resultant file as 7vh8_SPDBVFH.pdb which will be used for docking"
   ]
  },
  {
   "cell_type": "markdown",
   "id": "904a23e5",
   "metadata": {},
   "source": [
    "# Preapring Ligand Structure"
   ]
  },
  {
   "cell_type": "markdown",
   "id": "cc98d9ec",
   "metadata": {},
   "source": [
    "Researchers are studying protease inhibitors for their potential to stop SARS- CoV-2 , the virus that causes Covid-19, from replicating"
   ]
  },
  {
   "cell_type": "markdown",
   "id": "c7c9362e",
   "metadata": {},
   "source": [
    "FDA Authorizes First Oral Antiviral for Treatment of COVID-19. Paxlovid is found to inhibit 3CLpro enzyme"
   ]
  },
  {
   "cell_type": "markdown",
   "id": "4335b34e",
   "metadata": {},
   "source": [
    "In Avogadro, you can minimize the structure. Extension > Optimize Geometry\n",
    "\n",
    "Optimize 3-4 times in save it as paxlovid_opt.pdb"
   ]
  },
  {
   "cell_type": "markdown",
   "id": "30685259",
   "metadata": {},
   "source": [
    "You can also directly build the structure in Avogadro as shown in Hands-on session. The minimize it and save it as a pdb file"
   ]
  },
  {
   "cell_type": "markdown",
   "id": "425a1245",
   "metadata": {},
   "source": [
    "# Docking with AutoDock"
   ]
  },
  {
   "cell_type": "markdown",
   "id": "e787bce2",
   "metadata": {},
   "source": [
    "# setting working directory\n",
    "After opening AutoDock go to file > preference > set (set the current working directory as the default directory)"
   ]
  },
  {
   "cell_type": "markdown",
   "id": "23fca792",
   "metadata": {},
   "source": [
    "# Loading the protein\n",
    "file > read molecule > 7v8h_SPDBVFH.pdb"
   ]
  },
  {
   "cell_type": "markdown",
   "id": "6ef6a84d",
   "metadata": {},
   "source": [
    "Edit > Charges > Add Kollman Charges \n",
    "\n",
    "Edit > Charges > Check Totals on Residues"
   ]
  },
  {
   "cell_type": "markdown",
   "id": "74f808cd",
   "metadata": {},
   "source": [
    "Now show the protein in lines by going to Dashboard and clicking oval shape box under L"
   ]
  },
  {
   "cell_type": "markdown",
   "id": "e12ed093",
   "metadata": {},
   "source": [
    "# Loading the ligand\n",
    "Now in AuodockTools, we will open ligand file."
   ]
  },
  {
   "cell_type": "markdown",
   "id": "9557bcd0",
   "metadata": {},
   "source": [
    "Ligand > Input > Open ... > paxlovid_opt.pdb (before that change pdbqt files to pdb)"
   ]
  },
  {
   "cell_type": "markdown",
   "id": "33c80741",
   "metadata": {},
   "source": [
    "Ligand > Torsion Tree > Detect Root\n",
    "\n",
    "Ligand > Torsion Tree > Choose Torsions\n",
    "\n",
    "Click Done"
   ]
  },
  {
   "cell_type": "markdown",
   "id": "8b693df3",
   "metadata": {},
   "source": [
    "Ligand > Output > Save as PDBQT"
   ]
  },
  {
   "cell_type": "markdown",
   "id": "62f37684",
   "metadata": {},
   "source": [
    "Charge and atom type are present in pdbqt files which are absent in pdb file"
   ]
  },
  {
   "cell_type": "markdown",
   "id": "ab107177",
   "metadata": {},
   "source": [
    "# Preparing a Macromolecule\n",
    "\n",
    "Now we will prepare our protein for docking\n",
    "\n",
    "Grid > Macromolecule > Choose ...\n",
    "\n",
    "Select 7v8h_SPDBVFH and click on select mole"
   ]
  },
  {
   "cell_type": "markdown",
   "id": "f55f824c",
   "metadata": {},
   "source": [
    "it will show WARNING as shown besides.\n",
    "\n",
    "Initiallizing 7v8h_SPDBVFH.pdb: \n",
    "\n",
    "-contains no non-bonded atoms \n",
    "\n",
    "-found 1788 non-polar hydrogens \n",
    "\n",
    "-merged nphs\n",
    "\n",
    "Click OK\n",
    "\n",
    "Type in protein.pdbqt, and save"
   ]
  },
  {
   "cell_type": "markdown",
   "id": "98c2786b",
   "metadata": {},
   "source": [
    "#  Setting the Search Space"
   ]
  },
  {
   "cell_type": "markdown",
   "id": "15669c07",
   "metadata": {},
   "source": [
    "Grid > Grid Box...\n",
    "\n",
    "In present case, we will set Grid Box around bound ligand.\n",
    "Make sure, ligand is occupied from all side. Adjust the box using x, y, z center.\n",
    "\n",
    "Increase the box length by sliding x-, y- , z- dimension:\n",
    "\n",
    "Grid Options > File > Close saving current"
   ]
  },
  {
   "cell_type": "markdown",
   "id": "83b842cc",
   "metadata": {},
   "source": [
    "# Preparing the AutoGrid Parameter File\n",
    "\n",
    "Grid > Set Map Types > Choose Ligand\n",
    "\n",
    "Choose Ligand> pfizer and then click Select Ligand\n",
    "\n",
    "Grid > Output > Save GPF...\n",
    "\n",
    "type-in ligand.gpf and then save it\n"
   ]
  },
  {
   "cell_type": "markdown",
   "id": "7911637e",
   "metadata": {},
   "source": [
    "# Starting AutoGrid 4\n",
    "Run > Run AutoGrid"
   ]
  },
  {
   "cell_type": "markdown",
   "id": "c6a18613",
   "metadata": {},
   "source": [
    "Using Browse window, select Program Filename autogrid4.exe and parameter file ligand.gpf\n",
    "\n",
    "And then Launch the program. Autodock4.exe and autodock4.grid can be found in a directory where you installed AutoDock"
   ]
  },
  {
   "cell_type": "markdown",
   "id": "ac7f085c",
   "metadata": {},
   "source": [
    "# Preparing the AutoDock4 Parameter File\n",
    "\n",
    "Docking > Macromolecule > Set Rigid Filename...\n",
    "Select protein.pdbqt\n",
    "\n",
    "Docking > Ligand > Choose..\n",
    "\n",
    "Select ligand.pdbqt"
   ]
  },
  {
   "cell_type": "markdown",
   "id": "abcb128c",
   "metadata": {},
   "source": [
    "New window will appear as shown in picture .\n",
    "Keep all options default and Accept it\n",
    "Docking > Search Parameters > Genetic Algorithm...\n",
    "New window will appear as shown in picture . Keep all options default and Accept it"
   ]
  },
  {
   "cell_type": "markdown",
   "id": "53a8f9ff",
   "metadata": {},
   "source": [
    "Docking > Docking Parameters...\n",
    "\n",
    "Accept default parameters. And then close it"
   ]
  },
  {
   "cell_type": "markdown",
   "id": "bb9f9784",
   "metadata": {},
   "source": [
    "Docking > Output > Lamackian GA(4.2)...\n",
    "\n",
    "type-in protein.dpf and save it. This will create docking parameter file.\n",
    "Finally, run docking using following command\n",
    "\n",
    "Run > Run AutoDock..."
   ]
  },
  {
   "cell_type": "markdown",
   "id": "4d1797ac",
   "metadata": {},
   "source": [
    "Using Browse window, select Program Filename autodock4.exe and parameter \n",
    "\n",
    "file protein.dpf\n",
    "\n",
    "And then Launch the program. It will take some time to finish the job"
   ]
  },
  {
   "cell_type": "markdown",
   "id": "f4d47c64",
   "metadata": {},
   "source": [
    "# Steps for analyzing docking results\n",
    "\n",
    "Analyze > Dockings > Open...\n",
    "\n",
    "Select protein.dlg and click open.\n",
    "A docking experiment is successful with respect to convergence if the majority of all available docking poses falls into the same cluster.\n",
    "\n",
    "Analyze > Macromolecule > Open:\n",
    "\n",
    "Protein will be loaded in graphical interface\n",
    "\n",
    "Analyze > Conformations > Play, ranked by Energy\n",
    "Button &: more information about the generated conformations\n",
    "\n",
    "Button &\n",
    "Show Info: Detailed information of values for the current docking pose: Binding_energy: Binding energy between protein and ligand\n",
    "refRMS: RMSD value to the reference native binding pose Inhibition_constant: Inhibition constant of the ligand to protein\n"
   ]
  },
  {
   "cell_type": "markdown",
   "id": "379d0b5e",
   "metadata": {},
   "source": [
    "Analyze > Conformations > Play, ranked by Energy\n",
    "\n",
    "# Saving the docking results\n",
    "\n",
    "Choose the conformation 1 of the ligand and save the protein-ligand complex using Write Complex\n",
    "\n",
    "Now, delete the protein and ligand from AutoDockTools.\n",
    "Load the new complex\n",
    "\n",
    "And then save it as a PDB file\n",
    "File > Save > Write PDB"
   ]
  },
  {
   "cell_type": "markdown",
   "id": "3c6a2f5f",
   "metadata": {},
   "source": [
    "# Steps for analyzing docking results\n",
    "\n",
    "Analyze > Clustering > Show...\n",
    "\n",
    "A docking experiment is successful with respect to convergence if the \n",
    "\n",
    "majority of all available docking poses falls into the same cluster.\n",
    "\n",
    "Analyze > Dockings > Show Interactions"
   ]
  },
  {
   "cell_type": "markdown",
   "id": "f902598a",
   "metadata": {},
   "source": [
    "# Kollman Charges\n",
    "The Kollman charges are template values for each amino acid that were derived from the corresponding electrostatic potential using quantum mechanics. It is also good practice to use Kollman charges for protein and gasteiger charges for ligands.\n",
    "\n",
    "# Gasteiger Charges (or Marsili Charges)\n",
    "The Gasteiger(-Marsili) charges are determined on basis of electronegativity equilibration, which can be computed by AutoDockTools for the given molecular system i.e. your ligand or co-factors in case you don't have any partial charges at hand. It assumes an overall net neutral state for the respective molecular system. Thus, check the protonation states of the amino acids and the ligand."
   ]
  }
 ],
 "metadata": {
  "kernelspec": {
   "display_name": "Python 3 (ipykernel)",
   "language": "python",
   "name": "python3"
  },
  "language_info": {
   "codemirror_mode": {
    "name": "ipython",
    "version": 3
   },
   "file_extension": ".py",
   "mimetype": "text/x-python",
   "name": "python",
   "nbconvert_exporter": "python",
   "pygments_lexer": "ipython3",
   "version": "3.7.4"
  }
 },
 "nbformat": 4,
 "nbformat_minor": 5
}
